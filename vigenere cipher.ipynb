{
 "cells": [
  {
   "cell_type": "markdown",
   "metadata": {},
   "source": [
    "### Vigenère Cipher\n",
    "\n",
    "&nbsp;\n",
    "\n",
    "Vigenère Cipher is touted as \"le chiffre indéchiffrable\". It is a polyalphabetic substitution cipher that cannot be decrypt via simple letter frequent analysis. It is a combination of multiple Caesar ciphers in sequence with different shift values. For instance, we want to encrypt the text \"Foreplay is like beefburgers – three minutes on each side\" with key \"viagra\". We repeat the key until it matches the length of the plaintext. We look up the intersection element on Vigenère table based upon the plaintext letter and the keyword letter.\n",
    "\n",
    "| | |\n",
    "|--|--|\n",
    "| Plaintext | foreplayislikebeefburgersthreeminutesoneachside |\n",
    "| Key | viagraviagraviagraviagraviagraviagraviagraviagr |\n",
    "| Ciphertext | awrkglvgiycifmbkvfwcrmvrnbhxvehqnakenwnkrccaijv |\n",
    "\n",
    "&nbsp;\n",
    "\n",
    "Check Wikipedia for more details of the cipher\n",
    "\n",
    "https://en.wikipedia.org/wiki/Vigen%C3%A8re_cipher"
   ]
  },
  {
   "cell_type": "code",
   "execution_count": 1,
   "metadata": {},
   "outputs": [],
   "source": [
    "import re"
   ]
  },
  {
   "cell_type": "code",
   "execution_count": 2,
   "metadata": {},
   "outputs": [],
   "source": [
    "global english_lower,tabula_recta,english_ic"
   ]
  },
  {
   "cell_type": "code",
   "execution_count": 3,
   "metadata": {},
   "outputs": [],
   "source": [
    "#letter mapping\n",
    "english_lower='abcdefghijklmnopqrstuvwxyz'\n",
    "\n",
    "#create vigenère square\n",
    "tabula_recta=[english_lower[i:]+english_lower[:i] for i in range(len(english_lower))]\n",
    "\n",
    "#english index of confidence\n",
    "english_ic=0.065"
   ]
  },
  {
   "cell_type": "markdown",
   "metadata": {},
   "source": [
    "### Functions"
   ]
  },
  {
   "cell_type": "code",
   "execution_count": 4,
   "metadata": {},
   "outputs": [],
   "source": [
    "#to make the ciphertext less revealing\n",
    "#we can use lower case,remove space and punctuations via regex\n",
    "#then group the letters by certain number\n",
    "def break_into_blocks(ciphertext,bandwidth=6):\n",
    "\n",
    "    #only capture words\n",
    "    tough_ciphertext=list(map(lambda x:x.lower(),re.findall('\\w',ciphertext)))\n",
    "    \n",
    "    #break into blocks\n",
    "    new_ciphertext=[''.join(tough_ciphertext[i:i+bandwidth]) for i in range(0,len(tough_ciphertext),bandwidth)]\n",
    "\n",
    "    #fill up the last block with padding\n",
    "    if len(new_ciphertext[-1])<bandwidth:\n",
    "        new_ciphertext[-1]+='a'*(bandwidth-len(new_ciphertext[-1]))\n",
    "        \n",
    "    #create output\n",
    "    ultimate_ciphertext=' '.join(new_ciphertext)\n",
    "    \n",
    "    return ultimate_ciphertext"
   ]
  },
  {
   "cell_type": "code",
   "execution_count": 5,
   "metadata": {},
   "outputs": [],
   "source": [
    "#encryption\n",
    "def vigenere_cipher_encrypt(plaintext,keyword):\n",
    "\n",
    "    #only obtain english alphabets\n",
    "    aggregated=''.join(re.findall('[a-zA-z]+',plaintext))\n",
    "\n",
    "    #repeat keyword to match the length of the plaintext\n",
    "    keyphrase=keyword*(len(aggregated)//len(keyword))+keyword[:len(aggregated)%len(keyword)]\n",
    "\n",
    "    #encrypt plaintext via tabula recta look up\n",
    "    ciphertext=''\n",
    "    for i in range(len(aggregated)):\n",
    "        row_id=english_lower.index(keyphrase[i].lower())\n",
    "        col_id=english_lower.index(aggregated[i].lower())    \n",
    "        ciphertext+=tabula_recta[row_id][col_id]\n",
    "        \n",
    "    return ciphertext"
   ]
  },
  {
   "cell_type": "code",
   "execution_count": 6,
   "metadata": {},
   "outputs": [],
   "source": [
    "#decryption\n",
    "def vigenere_cipher_decrypt(ciphertext,keyword):\n",
    "\n",
    "    #only obtain english alphabets\n",
    "    aggregated=''.join(re.findall('[a-zA-z]+',ciphertext))\n",
    "\n",
    "    #repeat keyword to match the length of the plaintext\n",
    "    keyphrase=keyword*(len(aggregated)//len(keyword))+keyword[:len(aggregated)%len(keyword)]\n",
    "\n",
    "\n",
    "    #decrypt plaintext via tabula recta look up\n",
    "    plaintext=''\n",
    "    for i in range(len(aggregated)):\n",
    "        row_id=english_lower.index(keyphrase[i].lower())\n",
    "        plaintext+=english_lower[tabula_recta[row_id].index(aggregated[i])]\n",
    "\n",
    "    return plaintext"
   ]
  },
  {
   "cell_type": "markdown",
   "metadata": {},
   "source": [
    "### Run"
   ]
  },
  {
   "cell_type": "code",
   "execution_count": 7,
   "metadata": {},
   "outputs": [],
   "source": [
    "keyword='monamour'\n",
    "\n",
    "plaintext='Besides crude oil, Colombia has other exports, one of the most well-known is coffee beans. Colombia is the second largest coffee bean producer trailing only after Brazil. There are two types of coffee beans, Arabica and Robusta. Arabica is the predominant species in Colombia with its bright acidity, sweet notes, and caramel aroma rising from every brew. However, Robusta has a higher yield and less demanding conditions to grow. Concerning the rising menace of climate change, the bitter and intensive taste has been gradually introduced to Colombia as well. Hence, we would love to test ICE Arabica and Robusta futures price to make sure Vasconia crude is the major factor of Colombian Peso. Apart from the high-profile coffee beans, coal briquette is another big export business in Colombia. Most coals are shipped to Europe, so we pick Rotterdam API 2 coal futures as our benchmark. As for the gold in Colombia, we still follow gold LBMA price in London.'\n",
    "\n",
    "print(plaintext)"
   ]
  },
  {
   "cell_type": "code",
   "execution_count": 8,
   "metadata": {},
   "outputs": [],
   "source": [
    "#encrypt\n",
    "ciphertext=vigenere_cipher_encrypt(plaintext,keyword)"
   ]
  },
  {
   "cell_type": "code",
   "execution_count": 9,
   "metadata": {},
   "outputs": [
    {
     "name": "stdout",
     "output_type": "stream",
     "text": [
      "nsfipsmtdi qeawftazbm nwuymgbtts lvjdbrfgie qcsttsgfeh jexzeeakai eqiwrsrbqo hjocyoypcr ugghqgytab qlmfavehpo rtyvnsnnbf iugqrrffuz xwagabfpmt gedplrlwyt tslvmfrtic npbsforqiw rsrbqohjmf nbuqurzreo nimkmoeanw wrugghqdlv pczizohked rcusmzzqbl aavzmkvttw njnfvgthut urvtkgqvqh aofsmrzrpa dogvxoeoyo lzewagrfid qjrrkplviv bwqjyidcou ehuymgnhuu bvdmvexrue pzrserydmb qizuwfzrvt uchjfctrak wfzqrrzwhx fvrrugcesa rnmqyfrqyi yonvovnnss nyqpvtfslr zrvnfshjuj rtmgnvtofb qshxdoqumz fpubgrarot qrgoocffyp vamgqvxzue zqynqkbuxr ffhsgofsmk uqradovzoo nnpfisggga rinldsfpdw wvfczawsml dsiaeqieuo prgryzehue yodfdtncfc lfrqblaavz mbceecugmf gfdcgktsui svjiatvlqq iwrsrbqohj ocnlnfchgs gtqwmrzcgh qfvzsskpaf nsggvnqgmz zqblaavzma bsfqirxgnr qgbzbdrdfc yldcceecqv bwpkdcnkqf qayojzocnl rinldsfaec oinsactaui woffafnyqu blpwhtazbm nwunqggixz zfxzbwscfu xpzabfctqw alabxfzaaa\n"
     ]
    }
   ],
   "source": [
    "#only capture words\n",
    "#break into blocks\n",
    "ultimate_ciphertext=break_into_blocks(ciphertext,bandwidth=10)\n",
    "print(ultimate_ciphertext)"
   ]
  },
  {
   "cell_type": "code",
   "execution_count": 10,
   "metadata": {},
   "outputs": [
    {
     "data": {
      "text/plain": [
       "'besidescrudeoilcolombiahasotherexportsoneofthemostwellknowniscoffeebeanscolombiaisthesecondlargestcoffeebeanproducertrailingonlyafterbraziltherearetwotypesofcoffeebeansarabicaandrobustaarabicaisthepredominantspeciesincolombiawithitsbrightaciditysweetnotesandcaramelaromarisingfromeverybrewhoweverrobustahasahigheryieldandlessdemandingconditionstogrowconcerningtherisingmenaceofclimatechangethebitterandintensivetastehasbeengraduallyintroducedtocolombiaaswellhencewewouldlovetotesticearabicaandrobustafuturespricetomakesurevasconiacrudeisthemajorfactorofcolombianpesoapartfromthehighprofilecoffeebeanscoalbriquetteisanotherbigexportbusinessincolombiamostcoalsareshippedtoeuropesowepickrotterdamapicoalfuturesasourbenchmarkasforthegoldincolombiawestillfollowgoldlbmapriceinlondonmna'"
      ]
     },
     "execution_count": 10,
     "metadata": {},
     "output_type": "execute_result"
    }
   ],
   "source": [
    "#decrypt\n",
    "vigenere_cipher_decrypt(ultimate_ciphertext,keyword)"
   ]
  },
  {
   "cell_type": "markdown",
   "metadata": {},
   "source": [
    "### Cryptanalysis\n",
    "\n",
    "&nbsp;\n",
    "\n",
    "The crytanalysis of Vigenère cipher depends on the keyword. If the keyword is longer than the plaintext, the cipher is theoretically unbreakable. If the keyword is shorter than the plaintext, we can guess the length of keyword via two different methods.\n",
    "\n",
    "* Kasiski Examination\n",
    "* Friedman Test"
   ]
  },
  {
   "cell_type": "markdown",
   "metadata": {},
   "source": [
    "#### Kasiski Examination\n",
    "\n",
    "&nbsp;\n",
    "\n",
    "Kasiski Examination exploits the repetition of words such as \"the\" in English. As long as the keyword is shorter than the plaintext, we shall observe the pattern of repeated groups in the ciphertext. The distance between the repetitions may indicate the length of keyword. For instance, the distance of 27 can imply four possible choices -- [1,3,9,27]. The length of the keyword must be the multiplications of some of the factors.\n",
    "\n",
    "More details can be found in the material from Michigan Technological University\n",
    "\n",
    "https://pages.mtu.edu/~shene/NSF-4/Tutorial/VIG/Vig-Kasiski.html"
   ]
  },
  {
   "cell_type": "code",
   "execution_count": 11,
   "metadata": {},
   "outputs": [],
   "source": [
    "#compute n gram frequency in ciphertext\n",
    "def compute_letter_freq(ciphertext,N):\n",
    "\n",
    "    #break text into letters\n",
    "    total=[i[j:j+N] for i in ciphertext.split() for j in range(len(i)-N+1) if len(i)>N]\n",
    "\n",
    "    #count\n",
    "    D={}\n",
    "    for i in set(total):\n",
    "        D[i]=total.count(i)\n",
    "    D=dict(sorted(D.items(),key=lambda x:x[1],reverse=True))\n",
    "    \n",
    "    return D"
   ]
  },
  {
   "cell_type": "code",
   "execution_count": 12,
   "metadata": {},
   "outputs": [],
   "source": [
    "#check the link below for more details of factorization\n",
    "#https://github.com/je-suis-tm/recursion-and-dynamic-programming/blob/master/factorization.py\n",
    "global factors\n",
    "factors=[]\n",
    "def factorization(n):\n",
    "    \n",
    "    global factors\n",
    "    \n",
    "    #negative and float should be excluded\n",
    "    assert n>=0 and type(n)!=float,\"negative or float is not allowed\"\n",
    "        \n",
    "    #if n is smaller than 4 \n",
    "    #prime number it is\n",
    "    if n>4:\n",
    "        \n",
    "        #exclude 1 and itself\n",
    "        #the largest factor of n can not exceed the half of n\n",
    "        #because 2 is the smallest factor\n",
    "        #the range of factors we are gonna try starts from 2 to int(n/2+1)\n",
    "        #int function to solve the odd number problem\n",
    "        for i in range(2,int(n/2)+1):\n",
    "            \n",
    "            #the factorization process\n",
    "            if n%i==0:\n",
    "                factors.append(i)\n",
    "                \n",
    "                #return is crucial\n",
    "                #if the number is not a prime number\n",
    "                #it will stop function from appending non-prime factors\n",
    "                #the next few lines will be ignored\n",
    "                return factorization(int(n/i))\n",
    "    \n",
    "    #append the last factor    \n",
    "    #it could be n itself if n is a prime number\n",
    "    #in that case there is only one element in the list\n",
    "    #or it could be the last indivisible factor of n which is also a prime number\n",
    "    factors.append(int(n))\n",
    "    \n",
    "    if len(factors)==1:\n",
    "        print('%d is a prime number'%(n))\n",
    "        factors=[]"
   ]
  },
  {
   "cell_type": "code",
   "execution_count": 13,
   "metadata": {},
   "outputs": [],
   "source": [
    "#find the longest repeating pattern inside ciphertext\n",
    "N=len(ciphertext)-1\n",
    "while N>=0:\n",
    "    D=compute_letter_freq(ciphertext,N)\n",
    "    if D[list(D.keys())[0]]>1:\n",
    "        break    \n",
    "    N-=1"
   ]
  },
  {
   "cell_type": "code",
   "execution_count": 14,
   "metadata": {},
   "outputs": [],
   "source": [
    "#find the repetition distance of the longest repeating pattern\n",
    "ind=0\n",
    "repetition_distance=[]\n",
    "while ind<len(ciphertext):\n",
    "    try:\n",
    "        repetition_distance.append(ciphertext[ind:].index(list(D.keys())[0])+ind)\n",
    "        ind=repetition_distance[-1]+len(list(D.keys())[0])\n",
    "    except ValueError:\n",
    "        ind=len(ciphertext)\n",
    "segments=[repetition_distance[i]-repetition_distance[i-1] for i in range(1,len(repetition_distance))]"
   ]
  },
  {
   "cell_type": "code",
   "execution_count": 15,
   "metadata": {},
   "outputs": [],
   "source": [
    "#find factors of all the repetition distance\n",
    "factors_group=[]\n",
    "for i in segments:\n",
    "    factors=[]\n",
    "    factorization(i)\n",
    "    factors_group+=factors"
   ]
  },
  {
   "cell_type": "code",
   "execution_count": 16,
   "metadata": {},
   "outputs": [
    {
     "data": {
      "text/plain": [
       "[2, 2, 2, 2, 3, 11]"
      ]
     },
     "execution_count": 16,
     "metadata": {},
     "output_type": "execute_result"
    }
   ],
   "source": [
    "#the key length must be the multiplication of some of the factors\n",
    "factors_group"
   ]
  },
  {
   "cell_type": "markdown",
   "metadata": {},
   "source": [
    "#### Friedman Test\n",
    "\n",
    "&nbsp;\n",
    "\n",
    "Friedman Test emphasizes on the statistical regularities of natural languages. It relies on the index of coincidence (IC) to compute the possibility of picking two matching letters randomly from the same text. With IC, it is possible to detect the form of encryption since transposition ciphers have similar IC to natural languages and substitution ciphers have different IC from natural languages. With the mathematical derivation, we can obtain the potential length of the keyword.\n",
    "\n",
    "More details of the derivation can be found in the material from Northern Kentucky University\n",
    "\n",
    "https://www.nku.edu/~christensen/1402%20Friedman%20test%202.pdf"
   ]
  },
  {
   "cell_type": "code",
   "execution_count": 17,
   "metadata": {},
   "outputs": [],
   "source": [
    "#compute index of confidence\n",
    "def compute_ic(ciphertext):\n",
    "\n",
    "    index_of_confidence=0\n",
    "    for i in set(ciphertext):\n",
    "        index_of_confidence+=ciphertext.count(i)/len(ciphertext)*(ciphertext.count(i)-1)/(len(ciphertext)-1)\n",
    "        \n",
    "    return index_of_confidence"
   ]
  },
  {
   "cell_type": "code",
   "execution_count": 18,
   "metadata": {},
   "outputs": [],
   "source": [
    "#friedman test to derive possible length of the keyword\n",
    "def friedman_test(language_ic,random_ic,ciphertext):\n",
    "\n",
    "    numerator=(language_ic-random_ic)*len(ciphertext)\n",
    "    denominator=(len(ciphertext)-1)*compute_ic(ciphertext)-random_ic*len(ciphertext)+language_ic\n",
    "    return numerator/denominator"
   ]
  },
  {
   "cell_type": "code",
   "execution_count": 19,
   "metadata": {},
   "outputs": [],
   "source": [
    "#english only contains 26 letters\n",
    "global random_ic\n",
    "random_ic=1/26"
   ]
  },
  {
   "cell_type": "code",
   "execution_count": 20,
   "metadata": {},
   "outputs": [
    {
     "data": {
      "text/plain": [
       "0.0591358894700797"
      ]
     },
     "execution_count": 20,
     "metadata": {},
     "output_type": "execute_result"
    }
   ],
   "source": [
    "#ic of plaintext is similar to the general case of english 0.065\n",
    "compute_ic(''.join(re.findall('\\w+',plaintext)))"
   ]
  },
  {
   "cell_type": "code",
   "execution_count": 21,
   "metadata": {},
   "outputs": [
    {
     "data": {
      "text/plain": [
       "7.994395692188541"
      ]
     },
     "execution_count": 21,
     "metadata": {},
     "output_type": "execute_result"
    }
   ],
   "source": [
    "#the key length is 8!\n",
    "friedman_test(english_ic,random_ic,ciphertext)"
   ]
  },
  {
   "cell_type": "markdown",
   "metadata": {},
   "source": [
    "#### Frequency Analysis\n",
    "\n",
    "&nbsp;\n",
    "\n",
    "Once we manage to speculate the key length, the rest of the cryptanalysis is identical to Caesar cipher. We divide the ciphertext into a matrix with each row has the same length as the keyword. Each column is de facto using the same Caesar cipher. We can apply letter frequency analysis to determine each letter of the keyword.\n",
    "\n",
    "More details of Caesar cipher can be found in the link below\n",
    "\n",
    "https://github.com/je-suis-tm/cryptography/blob/main/caesar%20cipher.ipynb"
   ]
  },
  {
   "cell_type": "code",
   "execution_count": 22,
   "metadata": {},
   "outputs": [],
   "source": [
    "#friedman test suggests 8\n",
    "#kasiski examination confirms the suggestion\n",
    "key_length=8"
   ]
  },
  {
   "cell_type": "code",
   "execution_count": 23,
   "metadata": {},
   "outputs": [],
   "source": [
    "#english letter frequency from the book Cryptanalysis by Helen Fouché Gaines\n",
    "meaker=['e','t','a','o','n','i','s','r','h','l','d','c','u','p','f','m','w','y','b','g','v','k','q','x','j','z']"
   ]
  },
  {
   "cell_type": "code",
   "execution_count": 24,
   "metadata": {},
   "outputs": [],
   "source": [
    "#now the cryptanalysis is merely cracking 8 different caesar ciphers\n",
    "potential_key=[]\n",
    "for i in range(key_length):\n",
    "        \n",
    "    #we just use double colon syntax to obtain 8 separate ciphertext\n",
    "    D=compute_letter_freq(ciphertext[i::key_length],1)\n",
    "    \n",
    "    #simple letter frequency analysis\n",
    "    potential_shift=english_lower.index(list(D.keys())[0])-english_lower.index(meaker[0])\n",
    "    if potential_shift<0:\n",
    "        potential_shift+=25\n",
    "    potential_key.append(english_lower[potential_shift])    "
   ]
  },
  {
   "cell_type": "code",
   "execution_count": 25,
   "metadata": {},
   "outputs": [
    {
     "name": "stdout",
     "output_type": "stream",
     "text": [
      "The key word could be ionvmojr\n",
      "The real key word is  monamour\n"
     ]
    }
   ],
   "source": [
    "#the key isnt accurate but its pretty close\n",
    "#only three letters are wrong\n",
    "#we may be able to use edit distance autocorrect to solve the problem\n",
    "#check the link below for edit distance\n",
    "# https://github.com/je-suis-tm/recursion-and-dynamic-programming/blob/master/edit%20distance%20recursion.py\n",
    "print('The key word could be',''.join(potential_key))\n",
    "print('The real key word is  monamour')"
   ]
  },
  {
   "cell_type": "code",
   "execution_count": null,
   "metadata": {},
   "outputs": [],
   "source": []
  },
  {
   "cell_type": "code",
   "execution_count": null,
   "metadata": {},
   "outputs": [],
   "source": []
  }
 ],
 "metadata": {
  "kernelspec": {
   "display_name": "Python 3",
   "language": "python",
   "name": "python3"
  },
  "language_info": {
   "codemirror_mode": {
    "name": "ipython",
    "version": 3
   },
   "file_extension": ".py",
   "mimetype": "text/x-python",
   "name": "python",
   "nbconvert_exporter": "python",
   "pygments_lexer": "ipython3",
   "version": "3.6.5"
  },
  "toc": {
   "base_numbering": 1,
   "nav_menu": {},
   "number_sections": true,
   "sideBar": true,
   "skip_h1_title": false,
   "title_cell": "Table of Contents",
   "title_sidebar": "Contents",
   "toc_cell": false,
   "toc_position": {},
   "toc_section_display": true,
   "toc_window_display": false
  }
 },
 "nbformat": 4,
 "nbformat_minor": 2
}
