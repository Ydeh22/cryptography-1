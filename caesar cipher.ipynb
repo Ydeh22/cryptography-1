{
 "cells": [
  {
   "cell_type": "markdown",
   "metadata": {},
   "source": [
    "### Caesar Cipher\n",
    "\n",
    "&nbsp;\n",
    "\n",
    "Caesar Cipher is named after Roman general Gaius Julius Caesar. It is the easiest cipher technique you have played around as a kid without knowing its name. You substitute each letter with a letter some fixed number of positions down the alphabet. For instance, when the shift is 2, a->c, b->d, c->e, \"je sais pas\"->\"lg ucku rcu\". The cipher can be easily cracked by letter frequency analysis as long as you know what the underlying language is."
   ]
  },
  {
   "cell_type": "code",
   "execution_count": 1,
   "metadata": {},
   "outputs": [],
   "source": [
    "import re"
   ]
  },
  {
   "cell_type": "code",
   "execution_count": 2,
   "metadata": {},
   "outputs": [],
   "source": [
    "global english_lower"
   ]
  },
  {
   "cell_type": "code",
   "execution_count": 3,
   "metadata": {},
   "outputs": [],
   "source": [
    "#letter mapping\n",
    "english_lower='abcdefghijklmnopqrstuvwxyz'"
   ]
  },
  {
   "cell_type": "markdown",
   "metadata": {},
   "source": [
    "### Functions"
   ]
  },
  {
   "cell_type": "code",
   "execution_count": 4,
   "metadata": {},
   "outputs": [],
   "source": [
    "#to make the ciphertext less revealing\n",
    "#we can use lower case,remove space and punctuations via regex\n",
    "#then group the letters by certain number\n",
    "def break_into_blocks(ciphertext,bandwidth=6):\n",
    "\n",
    "    #only capture words\n",
    "    tough_ciphertext=list(map(lambda x:x.lower(),re.findall('\\w',ciphertext)))\n",
    "    \n",
    "    #break into blocks\n",
    "    new_ciphertext=[''.join(tough_ciphertext[i:i+bandwidth]) for i in range(0,len(tough_ciphertext),bandwidth)]\n",
    "\n",
    "    #fill up the last block with padding\n",
    "    if len(new_ciphertext[-1])<bandwidth:\n",
    "        new_ciphertext[-1]+='a'*(bandwidth-len(new_ciphertext[-1]))\n",
    "        \n",
    "    #create output\n",
    "    ultimate_ciphertext=' '.join(new_ciphertext)\n",
    "    \n",
    "    return ultimate_ciphertext"
   ]
  },
  {
   "cell_type": "code",
   "execution_count": 5,
   "metadata": {},
   "outputs": [],
   "source": [
    "#encryption\n",
    "def caesar_cipher_encrypt(plaintext,shift=1):   \n",
    "    \n",
    "    assert shift<26 and shift>=0,\"shift should be smaller than 26\"\n",
    "    \n",
    "    #convert text to list\n",
    "    plaintext_list=list(plaintext)\n",
    "\n",
    "    #first,map alphabets to numbers\n",
    "    #next,shift number\n",
    "    #finally,map numbers to alphabets\n",
    "    for i in range(len(plaintext_list)):\n",
    "        if plaintext_list[i].lower() in english_lower:        \n",
    "            code=english_lower.index(plaintext_list[i].lower())+shift\n",
    "            if code>25:\n",
    "                code-=25\n",
    "            plaintext_list[i]=english_lower[code]\n",
    "\n",
    "    return ''.join(plaintext_list)"
   ]
  },
  {
   "cell_type": "code",
   "execution_count": 6,
   "metadata": {},
   "outputs": [],
   "source": [
    "#decryption\n",
    "def caesar_cipher_decrypt(ciphertext,shift=1):\n",
    "    \n",
    "    assert shift<26 and shift>=0,\"shift should be smaller than 26\"\n",
    "    \n",
    "    #convert text to list\n",
    "    ciphertext_list=list(ciphertext)\n",
    "   \n",
    "    #first,map alphabets to numbers\n",
    "    #next,shift number\n",
    "    #finally,map numbers to alphabets\n",
    "    for i in range(len(ciphertext_list)):\n",
    "        if ciphertext_list[i].lower() in english_lower:        \n",
    "            code=english_lower.index(ciphertext_list[i].lower())-shift\n",
    "            if code<0:\n",
    "                code+=25\n",
    "            ciphertext_list[i]=english_lower[code]\n",
    "\n",
    "    return ''.join(ciphertext_list)"
   ]
  },
  {
   "cell_type": "markdown",
   "metadata": {},
   "source": [
    "### Run"
   ]
  },
  {
   "cell_type": "code",
   "execution_count": 7,
   "metadata": {},
   "outputs": [
    {
     "name": "stdout",
     "output_type": "stream",
     "text": [
      "Once arrived at the office building, she needs to take the elevator/lift to her floor. On average, the capacity for a ThyssenKrupp is about 8 to 12 people. But hey, people working in Canary Wharf can’t get squeezed like canned sardines. Call them snobbish if you want. From my experience, more than five people is called crowded. In and out of office plus twice for lunchtime, Jane Doe has contacted 20 people in one confined space alone. When she is in the office, an open-plan office (everybody hates it) is a nightmare to keep social distancing. A normal day at work should leave at least 30 people at exposure assuming she doesn’t take up a client facing role. We are talking about meaningless conferences, awful hotdesking and tiny cubicles. Working from home doesn’t seem so bad now. At lunch time, she goes to Tesco in One Canada Square for 3£ meal deal (this is not the continent, no 3-course meal plus Tuscany wine for your average lunch). It’s easy to contact 5 people in the fridge area since everyone is looking for the perfect chicken BLT. Lining up for the queue gets at least two people exposed, the one in front of you and the one after you. Usually there is an assistant to direct you to the right counter. Say Jane Does pays at the machines, the people to her left and right are also within the radius of two meters. Alternatively she can go to Vietnamese food truck for pho and spring rolls. Either way, the queue at lunch hour can contribute at least 10 contacts. Besides, she goes to Waitrose after work to purchase ingredients for the dinner. She doesn’t eat out often because of the crazy expense of the rent and monthly zone 2 pass. Using the same logic above, she has contacted 20 people at different supermarkets every day. In addition, she goes to crossfit or yoga class after dinner because of the peer pressure from colleagues. Obesity is a sign of laziness in Canary Wharf. Eight or nine PM is a peak hour at gym so another 10 contacts can be made. Before a day passes, Jane Doe has 3+15+5+30+5+10+5+5+10+15+10 contacts. We take a rounding to 120 because there can be some miscellaneous contacts. For instance, her team may maintain a tradition of going to pubs for happy hour every day or she has a date night with her husband at Covent Garden every Thursday.\n"
     ]
    }
   ],
   "source": [
    "plaintext=\"\"\"Once arrived at the office building, she needs to take the elevator/lift to her floor. On average, the capacity for a ThyssenKrupp is about 8 to 12 people. But hey, people working in Canary Wharf can’t get squeezed like canned sardines. Call them snobbish if you want. From my experience, more than five people is called crowded. In and out of office plus twice for lunchtime, Jane Doe has contacted 20 people in one confined space alone. When she is in the office, an open-plan office (everybody hates it) is a nightmare to keep social distancing. A normal day at work should leave at least 30 people at exposure assuming she doesn’t take up a client facing role. We are talking about meaningless conferences, awful hotdesking and tiny cubicles. Working from home doesn’t seem so bad now. At lunch time, she goes to Tesco in One Canada Square for 3£ meal deal (this is not the continent, no 3-course meal plus Tuscany wine for your average lunch). It’s easy to contact 5 people in the fridge area since everyone is looking for the perfect chicken BLT. Lining up for the queue gets at least two people exposed, the one in front of you and the one after you. Usually there is an assistant to direct you to the right counter. Say Jane Does pays at the machines, the people to her left and right are also within the radius of two meters. Alternatively she can go to Vietnamese food truck for pho and spring rolls. Either way, the queue at lunch hour can contribute at least 10 contacts. Besides, she goes to Waitrose after work to purchase ingredients for the dinner. She doesn’t eat out often because of the crazy expense of the rent and monthly zone 2 pass. Using the same logic above, she has contacted 20 people at different supermarkets every day. In addition, she goes to crossfit or yoga class after dinner because of the peer pressure from colleagues. Obesity is a sign of laziness in Canary Wharf. Eight or nine PM is a peak hour at gym so another 10 contacts can be made. Before a day passes, Jane Doe has 3+15+5+30+5+10+5+5+10+15+10 contacts. We take a rounding to 120 because there can be some miscellaneous contacts. For instance, her team may maintain a tradition of going to pubs for happy hour every day or she has a date night with her husband at Covent Garden every Thursday.\"\"\"\n",
    "shift_num=24\n",
    "print(plaintext)"
   ]
  },
  {
   "cell_type": "code",
   "execution_count": 8,
   "metadata": {},
   "outputs": [],
   "source": [
    "#encrypt\n",
    "ciphertext=caesar_cipher_encrypt(plaintext,shift=shift_num)"
   ]
  },
  {
   "cell_type": "code",
   "execution_count": 9,
   "metadata": {},
   "outputs": [
    {
     "name": "stdout",
     "output_type": "stream",
     "text": [
      "nmbdyq qhudcy ssgdne ehbdzt hkchmf rgdmdd crsnsy jdsgdd kduysn qkhess ngdqek nnqnmy udqyfd sgdbyo ybhsxe nqysgx rrdmjq toohry znts8s n12odn okdzts gdxodn okdvnq jhmfhm bymyqx vgyqeb ymsfds rptddy dckhjd bymmdc ryqchm drbykk sgdlrm nzzhrg hexntv ymseqn llxdwo dqhdmb dlnqds gymehu dodnok dhrbyk kdcbqn vcdchm ymcnts neneeh bdoktr svhbde nqktmb gshldi ymdcnd gyrbnm sybsdc 20odno kdhmnm dbnmeh mdcroy bdyknm dvgdmr gdhrhm sgdnee hbdymn odmoky mneehb ddudqx zncxgy sdrhsh rymhfg slyqds njddor nbhykc hrsymb hmfymn qlykcy xysvnq jrgntk ckdyud yskdyr s30odn okdysd wonrtq dyrrtl hmfrgd cndrms syjdto ybkhdm seybhm fqnkdv dyqdsy kjhmfy zntsld ymhmfk drrbnm edqdmb dryvet kgnscd rjhmfy mcshmx btzhbk drvnqj hmfeqn lgnldc ndrmsr ddlrnz ycmnvy sktmbg shldrg dfndrs nsdrbn hmnmdb ymycyr ptyqde nq3ldy kcdyks ghrhrm nssgdb nmshmd msmn3b ntqrdl dykokt rstrby mxvhmd enqxnt qyudqy fdktmb ghsrdy rxsnbn msybs5 odnokd hmsgde qhcfdy qdyrhm bddudq xnmdhr knnjhm fenqsg dodqed bsbghb jdmzks khmhmf toenqs gdptdt dfdsry skdyrs svnodn okddwo nrdcsg dnmdhm eqnmsn exntym csgdnm dyesdq xnttrt ykkxsg dqdhry myrrhr symssn chqdbs xntsns gdqhfg sbntms dqryxi ymdcnd royxry ssgdly bghmdr sgdodn okdsng dqkdes ymcqhf gsyqdy krnvhs ghmsgd qychtr nesvnl dsdqry ksdqmy shudkx rgdbym fnsnuh dsmyld rdennc sqtbje nqogny mcroqh mfqnkk rdhsgd qvyxsg dptdtd ysktmb ggntqb ymbnms qhztsd yskdyr s10bnm sybsrz drhcdr rgdfnd rsnvyh sqnrdy esdqvn qjsnot qbgyrd hmfqdc hdmsre nqsgdc hmmdqr gdcndr msdysn tsnesd mzdbyt rdnesg dbqyyx dwodmr dnesgd qdmsym clnmsg kxynmd 2oyrrt rhmfsg dryldk nfhbyz nudrgd gyrbnm sybsdc 20odno kdysch eedqdm srtodq lyqjds rdudqx cyxhmy cchshn mrgdfn drsnbq nrrehs nqxnfy bkyrry esdqch mmdqzd bytrdn esgdod dqoqdr rtqdeq nlbnkk dyftdr nzdrhs xhryrh fmneky yhmdrr hmbymy qxvgyq edhfgs nqmhmd olhryo dyjgnt qysfxl rnymns gdq10b nmsybs rbymzd lycdzd enqdyc yxoyrr driymd cndgyr 315530 510551 01510b nmsybs rvdsyj dyqntm chmfsn 120zdb ytrdsg dqdbym zdrnld lhrbdk kymdnt rbnmsy bsrenq hmrsym bdgdqs dyllyx lyhmsy hmysqy chshnm nefnhm fsnotz renqgy ooxgnt qdudqx cyxnqr gdgyry cysdmh fgsvhs ggdqgt rzymcy sbnudm sfyqcd mdudqx sgtqrc yxaaaa\n"
     ]
    }
   ],
   "source": [
    "#only capture words\n",
    "#break into blocks\n",
    "ultimate_ciphertext=break_into_blocks(ciphertext,bandwidth=6)\n",
    "print(ultimate_ciphertext)"
   ]
  },
  {
   "cell_type": "code",
   "execution_count": 10,
   "metadata": {},
   "outputs": [
    {
     "data": {
      "text/plain": [
       "'oncear riveda ttheof ficebu ilding shenee dstota kethee levato rliftt oherfl oorona verage thecap acityf orathy ssenkr uppisa bout8t o12peo plebut heypeo plewor kingin canary wharfc antget squeea edlike canned sardin escall themsn obbish ifyouw antfro mmyexp erienc emoret hanfiv epeopl eiscal ledcro wdedin andout ofoffi ceplus twicef orlunc htimej anedoe hascon tacted 20peop leinon econfi nedspa cealon ewhens heisin theoff iceano penpla noffic eevery bodyha tesiti sanigh tmaret okeeps ociald istanc ingano rmalda yatwor kshoul dleave atleas t30peo pleate xposur eassum ingshe doesnt takeup aclien tfacin grolew eareta lkinga boutme aningl esscon ferenc esawfu lhotde skinga ndtiny cubicl eswork ingfro mhomed oesnts eemsob adnowa tlunch timesh egoest otesco inonec anadas quaref or3mea ldealt hisisn otthec ontine ntno3c oursem ealplu stusca nywine foryou ravera gelunc hitsea sytoco ntact5 people inthef ridgea reasin ceever yoneis lookin gforth eperfe ctchic kenblt lining upfort hequeu egetsa tleast twopeo pleexp osedth eonein fronto fyouan dtheon eafter youusu allyth ereisa nassis tantto direct youtot herigh tcount ersayj anedoe spaysa tthema chines thepeo pletoh erleft andrig htarea lsowit hinthe radius oftwom etersa lterna tively shecan gotovi etname sefood truckf orphoa ndspri ngroll seithe rwayth equeue atlunc hhourc ancont ribute atleas t10con tactsb esides shegoe stowai trosea fterwo rktopu rchase ingred ientsf orthed inners hedoes nteato utofte nbecau seofth ecraay expens eofthe rentan dmonth lyaone 2passu singth esamel ogicab oveshe hascon tacted 20peop leatdi fferen tsuper market severy dayina dditio nshego estocr ossfit oryoga classa fterdi nnerbe causeo fthepe erpres surefr omcoll eagues obesit yisasi gnofla ainess incana rywhar feight ornine pmisap eakhou ratgym soanot her10c ontact scanbe madebe foread aypass esjane doehas 315530 510551 01510c ontact swetak earoun dingto 120bec auseth erecan besome miscel laneou sconta ctsfor instan cehert eammay mainta inatra dition ofgoin gtopub sforha ppyhou revery dayors hehasa dateni ghtwit hherhu sbanda tcoven tgarde nevery thursd aybbbb'"
      ]
     },
     "execution_count": 10,
     "metadata": {},
     "output_type": "execute_result"
    }
   ],
   "source": [
    "#decrypt\n",
    "caesar_cipher_decrypt(ultimate_ciphertext,shift=shift_num)"
   ]
  },
  {
   "cell_type": "markdown",
   "metadata": {},
   "source": [
    "### Letter Frequency Analysis\n",
    "\n",
    "&nbsp;\n",
    "\n",
    "The key to Caesar cipher is the shift number. How can we determine the shift? As in natural languages, words show various statistical regularities, that's why we can use deep learning to predict the next possible word. The decryption can be tackled by letter frequency analysis. In our case, we only consider 26 English letters. The frequency analysis can be done on single letter or multiple letters (N-gram model). The result is always arbitrary. The most frequent letter in this ciphertext may not be the one across all English literatures depending on the sample size. If you are not short of computing power and manpower, you can always use brute force to try all possibilities for Caesar cipher."
   ]
  },
  {
   "cell_type": "code",
   "execution_count": 11,
   "metadata": {},
   "outputs": [],
   "source": [
    "#english letter frequency from the book Cryptanalysis by Helen Fouché Gaines\n",
    "meaker=['e','t','a','o','n','i','s','r','h','l','d','c','u','p','f','m','w','y','b','g','v','k','q','x','j','z']\n",
    "\n",
    "#english letter frequency from the book Making,Breaking Codes by Paul Garrett\n",
    "garrett=['e','t','o','i','a','n','s','r','h','l','d','u','c','m','p','y','f','g','w','b','v','k','x','j','q','z']\n",
    "\n",
    "#french and spanish letter frequency from the book Cryptogram Solving by M. E. Ohaver\n",
    "french=['e','a','i','s','t','n','r','u','l','o','d','m','p','c','v','q','g','b','f','j','h','z','x','y','k','w']\n",
    "spanish=['e','a','o','s','n','i','r','l','d','u','c','t','m','p','b','h','q','g','v','y','j','f','z','x','k','w']\n",
    "\n",
    "#english digrams from the book Cryptanalysis by Helen Fouché Gaines\n",
    "digrams=['th','he','an','in','er','re']\n",
    "\n",
    "#english trigrams from the book Cryptanalysis by Helen Fouché Gaines\n",
    "trigrams=['the','ing','tha','and','ion']\n"
   ]
  },
  {
   "cell_type": "code",
   "execution_count": 12,
   "metadata": {},
   "outputs": [],
   "source": [
    "#compute n gram frequency in ciphertext\n",
    "#compare with empirical plaintext result\n",
    "def compute_letter_freq(ciphertext,benchmark,N):\n",
    "\n",
    "    #break text into letters\n",
    "    total=[i[j:j+N] for i in ciphertext.split() for j in range(len(i)-N+1) if len(i)>N]\n",
    "\n",
    "    #count\n",
    "    D={}\n",
    "    for i in set(total):\n",
    "        D[i]=total.count(i)\n",
    "    D=dict(sorted(D.items(),key=lambda x:x[1],reverse=True))\n",
    "    \n",
    "    #output\n",
    "    print(f'{N}-gram Frequency Analysis')\n",
    "    print('Most frequent in cyphertext is',list(D.keys())[0])\n",
    "    print('Most frequent in plaintext is',benchmark[0])"
   ]
  },
  {
   "cell_type": "code",
   "execution_count": 13,
   "metadata": {},
   "outputs": [
    {
     "name": "stdout",
     "output_type": "stream",
     "text": [
      "1-gram Frequency Analysis\n",
      "Most frequent in cyphertext is d\n",
      "Most frequent in plaintext is e\n",
      "The shift should be 24\n"
     ]
    }
   ],
   "source": [
    "#based on single letter freq analysis\n",
    "#mapping e to d is shift 24\n",
    "compute_letter_freq(ciphertext,meaker,1)\n",
    "potential_shift=english_lower.index('d')-english_lower.index('e')\n",
    "if potential_shift<0:\n",
    "    potential_shift+=25\n",
    "print('The shift should be',potential_shift)"
   ]
  },
  {
   "cell_type": "code",
   "execution_count": 14,
   "metadata": {},
   "outputs": [
    {
     "name": "stdout",
     "output_type": "stream",
     "text": [
      "2-gram Frequency Analysis\n",
      "Most frequent in cyphertext is gd\n",
      "Most frequent in plaintext is th\n",
      "After decryption, it should be \" he \"\n",
      "Whereas the most frequent digrams are ['th', 'he', 'an', 'in', 'er', 're']\n"
     ]
    }
   ],
   "source": [
    "compute_letter_freq(ciphertext,digrams,2)\n",
    "print('After decryption, it should be \"',\n",
    "      caesar_cipher_decrypt('gd',potential_shift),'\"')\n",
    "print('Whereas the most frequent digrams are',digrams)"
   ]
  },
  {
   "cell_type": "code",
   "execution_count": 15,
   "metadata": {},
   "outputs": [
    {
     "name": "stdout",
     "output_type": "stream",
     "text": [
      "3-gram Frequency Analysis\n",
      "Most frequent in cyphertext is hmf\n",
      "Most frequent in plaintext is the\n",
      "After decryption, it should be \" ing \"\n",
      "Whereas the most frequent trigrams are ['the', 'ing', 'tha', 'and', 'ion']\n"
     ]
    }
   ],
   "source": [
    "compute_letter_freq(ciphertext,trigrams,3)\n",
    "print('After decryption, it should be \"',\n",
    "      caesar_cipher_decrypt('hmf',potential_shift),'\"')\n",
    "print('Whereas the most frequent trigrams are',trigrams)"
   ]
  },
  {
   "cell_type": "code",
   "execution_count": null,
   "metadata": {},
   "outputs": [],
   "source": []
  }
 ],
 "metadata": {
  "kernelspec": {
   "display_name": "Python 3",
   "language": "python",
   "name": "python3"
  },
  "language_info": {
   "codemirror_mode": {
    "name": "ipython",
    "version": 3
   },
   "file_extension": ".py",
   "mimetype": "text/x-python",
   "name": "python",
   "nbconvert_exporter": "python",
   "pygments_lexer": "ipython3",
   "version": "3.6.5"
  },
  "toc": {
   "base_numbering": 1,
   "nav_menu": {},
   "number_sections": true,
   "sideBar": true,
   "skip_h1_title": false,
   "title_cell": "Table of Contents",
   "title_sidebar": "Contents",
   "toc_cell": false,
   "toc_position": {},
   "toc_section_display": true,
   "toc_window_display": false
  }
 },
 "nbformat": 4,
 "nbformat_minor": 2
}
