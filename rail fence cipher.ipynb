{
 "cells": [
  {
   "cell_type": "markdown",
   "metadata": {},
   "source": [
    "### Rail Fence Cipher\n",
    "\n",
    "&nbsp;\n",
    "\n",
    "Rail fence cipher is one of the easiest transposition ciphers. Basically we just write the plaintext following zigzag shape in the matrix and fill other elements with random characters. The cipher text can be extracted via flattening the matrix. \n",
    "\n",
    "For instance, the word `AIR` in a 2 by 3 matrix.\n",
    "\n",
    "$$\n",
    "\\begin{pmatrix} A & ? & R\\\\ ? & I & ? \\end{pmatrix}\n",
    "$$\n",
    "\n",
    "Once we fill the empty elements, it becomes\n",
    "\n",
    "$$\n",
    "\\begin{pmatrix} A & T & R\\\\ A & I & L \\end{pmatrix}\n",
    "$$\n",
    "\n",
    "Flatten the matrix to extract the ciphertext `ATRAIL`. Dividing ciphertext into two blocks, which is `ATR AIL`, will make things more confusing. Without knowing the number of rows, cryptanalysis may be a bit difficult. The easiest way is to brute force all the possible values by factorization of the length of the ciphertext."
   ]
  },
  {
   "cell_type": "code",
   "execution_count": 1,
   "metadata": {},
   "outputs": [],
   "source": [
    "import itertools\n",
    "import numpy as np\n",
    "import re"
   ]
  },
  {
   "cell_type": "markdown",
   "metadata": {},
   "source": [
    "### Functions"
   ]
  },
  {
   "cell_type": "code",
   "execution_count": 2,
   "metadata": {},
   "outputs": [],
   "source": [
    "#to make the ciphertext less revealing\n",
    "#we can use lower case,remove space and punctuations via regex\n",
    "#then group the letters by certain number\n",
    "def break_into_blocks(ciphertext,bandwidth=6):\n",
    "\n",
    "    #only capture words\n",
    "    tough_ciphertext=list(map(lambda x:x.lower(),re.findall('\\S',ciphertext)))\n",
    "    \n",
    "    #break into blocks\n",
    "    new_ciphertext=[''.join(tough_ciphertext[i:i+bandwidth]) for i in range(0,len(tough_ciphertext),bandwidth)]\n",
    "\n",
    "    #fill up the last block with padding\n",
    "    if len(new_ciphertext[-1])<bandwidth:\n",
    "        new_ciphertext[-1]+='a'*(bandwidth-len(new_ciphertext[-1]))\n",
    "        \n",
    "    #create output\n",
    "    ultimate_ciphertext=' '.join(new_ciphertext)\n",
    "    \n",
    "    return ultimate_ciphertext"
   ]
  },
  {
   "cell_type": "code",
   "execution_count": 3,
   "metadata": {},
   "outputs": [],
   "source": [
    "#create a random matrix with ascii number\n",
    "#convert to characters\n",
    "#create a pointer\n",
    "#fill elements with the plaintext under the guidance of the pointer#\n",
    "def rail_fence_cipher_encrypt(plaintext,num_of_rail=3):\n",
    "\n",
    "    #initialize\n",
    "    matrix=np.random.randint(low=33,high=127,size=(num_of_rail,len(plaintext)))\n",
    "    vec=np.vectorize(lambda x:chr(x))\n",
    "    matrix=np.apply_along_axis(vec,axis=1,arr=matrix)\n",
    "    row_ind,col_ind=0,0\n",
    "    row_dir='down'\n",
    "\n",
    "    #the matrix is filled under the guidance of the pointer\n",
    "    while col_ind<len(plaintext):\n",
    "\n",
    "        #fill elements downwards diagonally\n",
    "        if row_dir=='down':\n",
    "            if row_ind<num_of_rail:\n",
    "                matrix[row_ind][col_ind]=plaintext[col_ind]\n",
    "                \n",
    "            #if the floor is reached\n",
    "            #reverse the pointer direction\n",
    "            else:\n",
    "                row_ind-=2\n",
    "                row_dir='up'\n",
    "                matrix[row_ind][col_ind]=plaintext[col_ind]\n",
    "                \n",
    "        #fill elements upwards diagonally\n",
    "        elif row_dir=='up':\n",
    "            if row_ind>=0:\n",
    "                matrix[row_ind][col_ind]=plaintext[col_ind]\n",
    "                \n",
    "            #if the ceiling is reached\n",
    "            #reverse the pointer direction\n",
    "            else:\n",
    "                row_ind+=2\n",
    "                row_dir='down'\n",
    "                matrix[row_ind][col_ind]=plaintext[col_ind]\n",
    "        else:\n",
    "            pass    \n",
    "\n",
    "        #iterate through elements\n",
    "        if row_dir=='down':\n",
    "            row_ind+=1\n",
    "        else:\n",
    "            row_ind-=1\n",
    "        col_ind+=1\n",
    "    \n",
    "    #create output\n",
    "    ciphertext=''.join(matrix.ravel())\n",
    "    \n",
    "    return ciphertext"
   ]
  },
  {
   "cell_type": "code",
   "execution_count": 4,
   "metadata": {},
   "outputs": [],
   "source": [
    "#the decryption is pretty much the same as encryption\n",
    "#just grab elements diagonally following the pointer\n",
    "def rail_fence_cipher_decrypt(ciphertext,num_of_rail=3):\n",
    "    \n",
    "    #initialize\n",
    "    row_ind,col_ind=0,0\n",
    "    row_dir='down'\n",
    "    plaintext_list=[]\n",
    "\n",
    "    #convert blocks into matrix\n",
    "    matrix=np.array([list(ciphertext[i:i+int(len(ciphertext)/num_of_rail)]) for i in range(0,len(ciphertext),int(len(ciphertext)/num_of_rail))]).reshape(num_of_rail,int(len(ciphertext)/num_of_rail))\n",
    "\n",
    "    #the matrix traversal is under the guidance of the pointer\n",
    "    while col_ind<matrix.shape[1]:\n",
    "\n",
    "        #move downwards diagonally\n",
    "        if row_dir=='down':\n",
    "            if row_ind<num_of_rail:\n",
    "                plaintext_list.append(matrix[row_ind][col_ind])\n",
    "                \n",
    "            #if the floor is reached\n",
    "            #reverse the pointer direction\n",
    "            else:\n",
    "                row_ind-=2\n",
    "                row_dir='up'\n",
    "                plaintext_list.append(matrix[row_ind][col_ind])\n",
    "                \n",
    "        #move upwards diagonally\n",
    "        elif row_dir=='up':\n",
    "            if row_ind>=0:\n",
    "                plaintext_list.append(matrix[row_ind][col_ind])\n",
    "                \n",
    "            #if the ceiling is reached\n",
    "            #reverse the pointer direction\n",
    "            else:\n",
    "                row_ind+=2\n",
    "                row_dir='down'\n",
    "                plaintext_list.append(matrix[row_ind][col_ind])\n",
    "        else:\n",
    "            pass    \n",
    "\n",
    "        #iterate through elements\n",
    "        if row_dir=='down':\n",
    "            row_ind+=1\n",
    "        else:\n",
    "            row_ind-=1\n",
    "        col_ind+=1\n",
    "\n",
    "    return ''.join(plaintext_list)"
   ]
  },
  {
   "cell_type": "markdown",
   "metadata": {},
   "source": [
    "### Run"
   ]
  },
  {
   "cell_type": "code",
   "execution_count": 5,
   "metadata": {},
   "outputs": [],
   "source": [
    "plaintext='Au fait, DS Model is an exceptional model to calibrate the base rate bias. In its defense, the poor performance in our task is caused by the lack of diverse opinions. Financial industry does not have a diverse pool of participants. The candidates are generally screened by target university and private school at the recruitment stage. Especially when it comes to research analysts, they don’t have any collective knowledge and they forecast the market based on public polling data. To add more fuel to the fire, research analysts do not get rated by conducting excellent research or telling fascinating stories. Their rating is based upon clients’ perception. Their ability to entertain the clients is somehow more influential than their research capability (one big night with the client is worth a thousand reports). To put it plainly, there are too many analysts who cannot do Newton-Leibniz theorem right and you expect them to tell you what the price would be in one year’s time? They are good at Latin quotes used in a variety of ways in the rhetoric but beautiful anecdotical stories doesn’t mean shit in terms of proofs.'\n",
    "num_of_rail=4"
   ]
  },
  {
   "cell_type": "code",
   "execution_count": 6,
   "metadata": {},
   "outputs": [
    {
     "name": "stdout",
     "output_type": "stream",
     "text": [
      "AGh&[U,m,6sce@if-deh4E<7i%{2:5o?{CrKc``/C6aAKSwlb&or@?tywH\"C.EGEPPdHon<We+=%sjoR.h<(fFwxD;c^,Hm{rwEt7dsZ_4:cdNb*3zl\"YEeXduUZoBeH'[k=oTfT_*nM]W3_l+G20$t3QE0As8_MBHvy0J,:edH8vzo|-kM9r>0jboalGGX<h,]:tbiTW/3raak~d%erp5Nfsvsw)*eN+mB+r>f]?@iopE^)tIKy0'r'-S7ysZh3=Ca(=98LeUP}L)mDzQH1a|GAa5p,\\aj}l#s0ztiiHAu~sl9QXeeyjjI3nBlEV3s>`:R%dv+{=taQG'fWc6sdsmt$[m)4o+%)8te@w(JJe=pU8Pco[3Mjelkr/JtVv\"{no>2TN$iz@KG[i9oT{Na>'cLZdR\"_{~uQRvMrhO<Xgl,!Z|ubra7/C\"lqy_eZoNk#{>tX?3FzbT^-`ku*X]{Fe';1ZXe]%p5_eJgTxarxc5Ynn6rD/Ji+\"I)WgG~<K[e]\"u'vii>*3'nMCF#Cs~o1mHnJ(yPUtO|k6bcVzc10nN't#%r;ucLXt:%6K!t1g*v;n0%Le(i%p]qzs#gRIsoY8WR-ilfJZenOg411h-J];~i14<vZa%Z(+[p:f(HLt`;X(Mb=K].ihd6KpitB]4\"<e*Aj@]oOh&OSh5m49rd+RRuPtOMiA3pKJJKolj|(6/,M}zOian}#2smP$:95aP7;`Rw=xg&xn/NHO#e,@aE/Lu\"%\"Vz9YW&$eRx1Rzty#ekTux)^k!t>2qOGouw9t>o-k=+nt.kUuscN>LQwdW*YIQn:&aiL’WNv]k?ZFM$rrTf}+*a3c4UWn%qB=fs-4zV8nk&m5eeT>w-}a}OR-:hD1Z|poIS^N+t%6y$LiC(m+Pe`\"VLmc@LMWjrC>K8`e8}*[le[F{#5t5G*`:m^l#3Vo1oP@!u4&RtHDNSEd<l]Q!nrx#LBtqoGg^m.dvHWoBa\\A(ryt}1]e|ad\"DaoeIOQsXI9@(sTesZJs~,5>rpsopK.rPorfDn,e)63uAt@cGi$cGz+e4b|6Te9a1&{fSiWG3snokwMiFnebhiDa&#Oa1i9A-s]rxc^epn-07a$er5uvWr,bzo(lcF_aotZ2apFng{\"Thek}ld&d;\"isbr]pBn3rGc#ybcB%pn>dUUbaWgpPnnGv+}4iIyIWqp1is{|eZc?Ael}te`zrNcF@:tXelr;t[g?!Ys'e9*Zl9yn%InItpL*e(tBl~sda$68axaccKt-,'B(y%oJY3hovB6ayQovIScZi[\"pnlw^V(gya\\L;h<y|y;e:a8Oyh0m#X8ehbSxUd@nl[Ml?c4kxlWn)R6tg.,*KdUm\\Gof4e[tWtCe]xXeVr+tLa=cO*Ga+yA$*dmn)n3e2r/lAdryB6Gd_c_f1gCxG\"Ql2nT'6s=a'xbo_tADJivg.M<c]nRmen=sun^ixsAyQevr'^|i6gTa]a`e9fqo_crN(nQs!t7rBe!yeo5.+9iiqa<]?i2yYf~nMeH{uiktAjZl.e*!?iTsyL!hEw)YQe6n3<zelt>n7tzaY}seer,UZenr{C7atac*aiRyOP%e_i0QngCtCX,h:hS(SiOn]9#wwr`b;t-o3LFnJr$=jrTsxG%oKuB<xp7a.-XyitrB\"e?r>y1o,a3Y+nzlRAasehto[nQoJmxN'wZ{4-+e7+>i'tPw5r2mBRShya7K-oDep/fc@txT<tGtxCZygu:Blt0h?#@iCeN1(l~b+kzo=eMQyrBsP.>eHTK-sa:ek7:dat+}2ijq'Mweyu;{MiXaooOiTtj`Uw4y_=At~eM]0tLr6O$uhb,(Ot,fD;un1cGJ9ika3jdopikH5o3s2W5m=aG~niJiHJzr}sWuVrLobA5hSfliMv'S*oXQ=igadwxcmpQk,nbl)}OeEt6azl`b+$?e`hC)sstr?fdb]a3L;nnt%\"[fKnRfCtweK]qr_e^--rsahO.i4o(+\"amk,m^aksw5pykh*5dceoI\"6v'r?uypXn8S+sqF0z-n,iEq^npu~U:ynoaf4othQB9aKi,_Os\\pW-|ospG3Qi\"i@[ot].dcdctn-\"Ua_eCH[ete0(ba@lLM&rde]jEb+ta*ze}uJ)AeGsI\"qaPdgk*v.t>F:hAoUI't4elC`r?ibrhnRsVEJeVEu@rc!aiB0wae~eRc)m$z`oje*TTrdhtNBlns>v@tNe&Czn0t#dVe&n[BylveQ3evVk+YrlwdEfxnetv7*f6r1?rsqt/z9a@k_.na[eK1+p=bz|<pHlOZsgka|14THaiE&oxe?U`lvo{w/fsrooreven{!hTnoE1s?sLMro?gZGaa%edPOcbn:F8tknj9*c^lWcetHeU'Nr[h'!ze7l)$AfysfC1aoid#*t|rK\"7.@hMy]rLt5gGi?be1]dNpA_9lleG4:’peYSSpyi0@mT[e0CIbdlw(Ft[eNIBrCa?,Oh8c'{jnTs\"uTo<e*!Cm!r7}Nfhu@ZbiJl@eknkh#P/rTsqB1c7c.)Eb=lxK_(Yn1RhgIi_tPw/tWi{eTl}[~t`sfXDt}a->EuJa\"{(eCoo{L)tT?ZYtit\\COiblyg>h]r}Z!eforW*n}a&'Ey.t-2Mo-a#_rt7oWTZt6nys4i>ny~yhlok&2rYgb\"ynfyf?Bxie_5@h6mMM^e;laH0wtai&|eWrmavwpub4?eonmJ1ybaO<+tym1&th}y?9Kg,ocH4LGtcX{uctj;FsidT|Bv`rXb&y{f35(s:nGmdr[eqNQi$bb([eXu~(;uia=$rdWt0}Vl9tEjfe:dPYFnBtBPjnRhBZ|n9e%1HoBp!xofO.tO<aSbstrM:`f^ysh^jm+e?-0uiabY<7SlOO9,#i(F:5MtvUZrhe3y6H$i%;M,Oitl=UEetpa3Gh/!Z\\^p#RSZgm<gfeGnPD$p_s]$Q56u;?uVQtCwW*:k)%C\\Be{(>#DiWBph].>59kCc;GcFLd?-B&=d6r'>\"t%hqFNdS?;h3e<OW=Uf40dW#cZ;/I\"s\\>bm-aB4lN>tICU@LgLMh`Dly:[Yoeq?vn*yrzjRqtu]|.$rW],kwnn?8+8aOb\"/DoOdB\\Khjy1QuuX||*ot+AJ|e.^g\\5bii6,\\[h3ivvZo|}d`Yrdyb$9c=.8fJy2MNXdh?6i=%’1Sa_%aS6O6*l3:?3Aeu{1w,eW8`gGdhe|\\Vo!t?{Xt3dw3xrSrk={sOQfE<utU{,)owj7.Pdd+wPeo&RWQsr2eNf)tmk^+ui3hz|#sv(@Hqa'\\m70t,[$F8tUn7OKt^@=}8og='TtiwlYC*ejIkGwr\\$Uh=cXwqV)lEDnd-ae!TJ>t_XZk;ompoERT}ug?vasT{dys|TQ+yu|_Lo}i5jt?]pE+s&Ntq|?#Wh~sG`Iif6QZMo]S9vUt\"y_yRe}aLVCt]W]!/m@D<pEoa=4i[lj'SuMa6FPU?tWb[<-eBJF<Xhz\"*T9i4kcV\\o{Ufo[nG{7s&ix.q3ccvT}^ZiDdol*hM},([s$_AwIp512ek.enp|Ji:N5ginM+tySeaGPUXt\"o3YEy}pbn\\smACu)c|/xOTdYh'9So3B0`'b:.fwFeCnVe5iu*!%5dGva1.pHjyYxeg0K:`lL9AcThsC,$;pUQ.D.o*1Z!jiqC$h=eu,[OqiQ:8$heSmZO3opPwYva4AaK-orL;:ke\\/L$-a_V$w\"oj)MoDi9oO,FhDqN?\\c>b(+mal:{fClD>8Cdo|e#M&sik4k;sjpzrh’c*w|ns/f=k2tvu9awf0}Bljsm\n"
     ]
    }
   ],
   "source": [
    "#as we will use regex later,we have to remove space here\n",
    "#encrypt\n",
    "ciphertext=rail_fence_cipher_encrypt(plaintext.replace(' ',''),\n",
    "                                     num_of_rail=num_of_rail)\n",
    "print(ciphertext)"
   ]
  },
  {
   "cell_type": "code",
   "execution_count": 7,
   "metadata": {},
   "outputs": [
    {
     "name": "stdout",
     "output_type": "stream",
     "text": [
      "agh&[u,m ,6sce@if -deh4e<7 i%{2:5o? {crkc``/ c6aakswl b&or@?ty wh\"c.ege ppdhon<w e+=%sjor .h<(ffwx d;c^,hm{ rwet7dsz _4:cdnb* 3zl\"yeex duuzobeh '[k=otft _*nm]w3_ l+g20$t3 qe0as8_m bhvy0j,: edh8vzo| -km9r>0j boalggx< h,]:tbit w/3raak~ d%erp5nf svsw)*en +mb+r>f] ?@iope^) tiky0'r' -s7yszh3 =ca(=98l eup}l)md zqh1a|ga a5p,\\aj} l#s0ztii hau~sl9q xeeyjji3 nblev3s> `:r%dv+{ =taqg'fw c6sdsmt$ [m)4o+%) 8te@w(jj e=pu8pco [3mjelkr /jtvv\"{n o>2tn$iz @kg[i9ot {na>'clz dr\"_{~uq rvmrho<x gl,!z|ub ra7/c\"lq y_ezonk# {>tx?3fz bt^-`ku* x]{fe';1 zxe]%p5_ ejgtxarx c5ynn6rd /ji+\"i)w gg~<k[e] \"u'vii>* 3'nmcf#c s~o1mhnj (yputo|k 6bcvzc10 nn't#%r; uclxt:%6 k!t1g*v; n0%le(i% p]qzs#gr isoy8wr- ilfjzeno g411h-j] ;~i14<vz a%z(+[p: f(hlt`;x (mb=k].i hd6kpitb ]4\"<e*aj @]ooh&os h5m49rd+ rruptomi a3pkjjko lj|(6/,m }zoian}# 2smp$:95 ap7;`rw= xg&xn/nh o#e,@ae/ lu\"%\"vz9 yw&$erx1 rzty#ekt ux)^k!t> 2qogouw9 t>o-k=+n t.kuuscn >lqwdw*y iqn:&ail ’wnv]k?z fm$rrtf} +*a3c4uw n%qb=fs- 4zv8nk&m 5eet>w-} a}or-:hd 1z|pois^ n+t%6y$l ic(m+pe` \"vlmc@lm wjrc>k8` e8}*[le[ f{#5t5g* `:m^l#3v o1op@!u4 &rthdnse d<l]q!nr x#lbtqog g^m.dvhw oba\\a(ry t}1]e|ad \"daoeioq sxi9@(st eszjs~,5 >rpsopk. rporfdn, e)63uat@ cgi$cgz+ e4b|6te9 a1&{fsiw g3snokwm ifnebhid a&#oa1i9 a-s]rxc^ epn-07a$ er5uvwr, bzo(lcf_ aotz2apf ng{\"thek }ld&d;\"i sbr]pbn3 rgc#ybcb %pn>duub awgppnng v+}4iiyi wqp1is{| ezc?ael} te`zrncf @:txelr; t[g?!ys' e9*zl9yn %initpl* e(tbl~sd a$68axac ckt-,'b( y%ojy3ho vb6ayqov isczi[\"p nlw^v(gy a\\l;h<y| y;e:a8oy h0m#x8eh bsxud@nl [ml?c4kx lwn)r6tg .,*kdum\\ gof4e[tw tce]xxev r+tla=co *ga+ya$* dmn)n3e2 r/ladryb 6gd_c_f1 gcxg\"ql2 nt'6s=a' xbo_tadj ivg.m<c] nrmen=su n^ixsayq evr'^|i6 gta]a`e9 fqo_crn( nqs!t7rb e!yeo5.+ 9iiqa<]? i2yyf~nm eh{uikta jzl.e*!? itsyl!he w)yqe6n3 <zelt>n7 tzay}see r,uzenr{ c7atac*a iryop%e_ i0qngctc x,h:hs(s ion]9#ww r`b;t-o3 lfnjr$=j rtsxg%ok ub<xp7a. -xyitrb\" e?r>y1o, a3y+nzlr aasehto[ nqojmxn' wz{4-+e7 +>i'tpw5 r2mbrshy a7k-odep /fc@txt< tgtxczyg u:blt0h? #@icen1( l~b+kzo= emqyrbsp .>ehtk-s a:ek7:da t+}2ijq' mweyu;{m ixaoooit tj`uw4y_ =at~em]0 tlr6o$uh b,(ot,fd ;un1cgj9 ika3jdop ikh5o3s2 w5m=ag~n ijihjzr} swuvrlob a5hsflim v's*oxq= igadwxcm pqk,nbl) }oeet6az l`b+$?e` hc)sstr? fdb]a3l; nnt%\"[fk nrfctwek ]qr_e^-- rsaho.i4 o(+\"amk, m^aksw5p ykh*5dce oi\"6v'r? uypxn8s+ sqf0z-n, ieq^npu~ u:ynoaf4 othqb9ak i,_os\\pw -|ospg3q i\"i@[ot] .dcdctn- \"ua_ech[ ete0(ba@ llm&rde] jeb+ta*z e}uj)aeg si\"qapdg k*v.t>f: haoui't4 elc`r?ib rhnrsvej eveu@rc! aib0wae~ erc)m$z` oje*ttrd htnblns> v@tne&cz n0t#dve& n[bylveq 3evvk+yr lwdefxne tv7*f6r1 ?rsqt/z9 a@k_.na[ ek1+p=bz |<phlozs gka|14th aie&oxe? u`lvo{w/ fsroorev en{!htno e1s?slmr o?gzgaa% edpocbn: f8tknj9* c^lwceth eu'nr[h' !ze7l)$a fysfc1ao id#*t|rk \"7.@hmy] rlt5ggi? be1]dnpa _9lleg4: ’peysspy i0@mt[e0 cibdlw(f t[enibrc a?,oh8c' {jnts\"ut o<e*!cm! r7}nfhu@ zbijl@ek nkh#p/rt sqb1c7c. )eb=lxk_ (yn1rhgi i_tpw/tw i{etl}[~ t`sfxdt} a->euja\" {(ecoo{l )tt?zyti t\\coibly g>h]r}z! eforw*n} a&'ey.t- 2mo-a#_r t7owtzt6 nys4i>ny ~yhlok&2 rygb\"ynf yf?bxie_ 5@h6mmm^ e;lah0wt ai&|ewrm avwpub4? eonmj1yb ao<+tym1 &th}y?9k g,och4lg tcx{uctj ;fsidt|b v`rxb&y{ f35(s:ng mdr[eqnq i$bb([ex u~(;uia= $rdwt0}v l9tejfe: dpyfnbtb pjnrhbz| n9e%1hob p!xofo.t o<asbstr m:`f^ysh ^jm+e?-0 uiaby<7s loo9,#i( f:5mtvuz rhe3y6h$ i%;m,oit l=ueetpa 3gh/!z\\^ p#rszgm< gfegnpd$ p_s]$q56 u;?uvqtc ww*:k)%c \\be{(>#d iwbph].> 59kcc;gc fld?-b&= d6r'>\"t% hqfnds?; h3e<ow=u f40dw#cz ;/i\"s\\>b m-ab4ln> ticu@lgl mh`dly:[ yoeq?vn* yrzjrqtu ]|.$rw], kwnn?8+8 aob\"/doo db\\khjy1 quux||*o t+aj|e.^ g\\5bii6, \\[h3ivvz o|}d`yrd yb$9c=.8 fjy2mnxd h?6i=%’1 sa_%as6o 6*l3:?3a eu{1w,ew 8`ggdhe| \\vo!t?{x t3dw3xrs rk={soqf e<utu{,) owj7.pdd +wpeo&rw qsr2enf) tmk^+ui3 hz|#sv(@ hqa'\\m70 t,[$f8tu n7okt^@= }8og='tt iwlyc*ej ikgwr\\$u h=cxwqv) lednd-ae !tj>t_xz k;ompoer t}ug?vas t{dys|tq +yu|_lo} i5jt?]pe +s&ntq|? #wh~sg`i if6qzmo] s9vut\"y_ yre}alvc t]w]!/m@ d<peoa=4 i[lj'sum a6fpu?tw b[<-ebjf <xhz\"*t9 i4kcv\\o{ ufo[ng{7 s&ix.q3c cvt}^zid dol*hm}, ([s$_awi p512ek.e np|ji:n5 ginm+tys eagpuxt\" o3yey}pb n\\smacu) c|/xotdy h'9so3b0 `'b:.fwf ecnve5iu *!%5dgva 1.phjyyx eg0k:`ll 9acthsc, $;puq.d. o*1z!jiq c$h=eu,[ oqiq:8$h esmzo3op pwyva4aa k-orl;:k e\\/l$-a_ v$w\"oj)m odi9oo,f hdqn?\\c> b(+mal:{ fcld>8cd o|e#m&si k4k;sjpz rh’c*w|n s/f=k2tv u9awf0}b ljsmaaaa\n"
     ]
    }
   ],
   "source": [
    "#only capture non-empty characters\n",
    "#break into blocks\n",
    "ultimate_ciphertext=break_into_blocks(ciphertext,bandwidth=8)\n",
    "print(ultimate_ciphertext)"
   ]
  },
  {
   "cell_type": "code",
   "execution_count": 8,
   "metadata": {},
   "outputs": [],
   "source": [
    "#remove padding\n",
    "ind=0\n",
    "for i in ultimate_ciphertext[::-1]:\n",
    "    if i!='a':\n",
    "        break\n",
    "    ind+=1"
   ]
  },
  {
   "cell_type": "code",
   "execution_count": 9,
   "metadata": {},
   "outputs": [
    {
     "data": {
      "text/plain": [
       "'aufait,dsmodelisanexceptionalmodeltocalibratethebaseratebias.initsdefense,thepoorperformanceinourtaskiscausedbythelackofdiverseopinions.financialindustrydoesnothaveadiversepoolofparticipants.thecandidatesaregenerallyscreenedbytargetuniversityandprivateschoolattherecruitmentstage.especiallywhenitcomestoresearchanalysts,theydon’thaveanycollectiveknowledgeandtheyforecastthemarketbasedonpublicpollingdata.toaddmorefueltothefire,researchanalystsdonotgetratedbyconductingexcellentresearchortellingfascinatingstories.theirratingisbaseduponclients’perception.theirabilitytoentertaintheclientsissomehowmoreinfluentialthantheirresearchcapability(onebignightwiththeclientisworthathousandreports).toputitplainly,therearetoomanyanalystswhocannotdonewton-leibniztheoremrightandyouexpectthemtotellyouwhatthepricewouldbeinoneyear’stime?theyaregoodatlatinquotesusedinavarietyofwaysintherhetoricbutbeautifulanecdoticalstoriesdoesn’tmeanshitintermsofproofs.'"
      ]
     },
     "execution_count": 9,
     "metadata": {},
     "output_type": "execute_result"
    }
   ],
   "source": [
    "#decrypt\n",
    "rail_fence_cipher_decrypt(ultimate_ciphertext.replace(' ','')[:-ind],\n",
    "                          num_of_rail=num_of_rail)"
   ]
  },
  {
   "cell_type": "markdown",
   "metadata": {},
   "source": [
    "### Cryptanalysis\n",
    "\n",
    "&nbsp;\n",
    "\n",
    "There is no smart way to crack rail fence cipher without knowing the number of rails. The easiest way is a smart brute force. First, we obtain all the possible combinations of the factors of the length of the ciphertext. Next, we try every possible value and check if zigzag pattern has showed any substantial meaning of a natural language."
   ]
  },
  {
   "cell_type": "code",
   "execution_count": 10,
   "metadata": {},
   "outputs": [],
   "source": [
    "#you can check the following link for how factorization is done in recursion\n",
    "# https://github.com/je-suis-tm/recursion-and-dynamic-programming/blob/master/factorization.py\n",
    "global factors\n",
    "factors=[]\n",
    "def factorization(n):\n",
    "    \n",
    "    global factors\n",
    "    \n",
    "    #negative and float should be excluded\n",
    "    assert n>=0 and type(n)!=float,\"negative or float is not allowed\"\n",
    "        \n",
    "    #if n is smaller than 4 \n",
    "    #prime number it is\n",
    "    if n>4:\n",
    "        \n",
    "        #exclude 1 and itself\n",
    "        #the largest factor of n can not exceed the half of n\n",
    "        #because 2 is the smallest factor\n",
    "        #the range of factors we are gonna try starts from 2 to int(n/2+1)\n",
    "        #int function to solve the odd number problem\n",
    "        for i in range(2,int(n**0.5)+1):\n",
    "            \n",
    "            #the factorization process\n",
    "            if n%i==0:\n",
    "                factors.append(i)\n",
    "                \n",
    "                #return is crucial\n",
    "                #if the number is not a prime number\n",
    "                #it will stop function from appending non-prime factors\n",
    "                #the next few lines will be ignored\n",
    "                return f(int(n/i))\n",
    "    \n",
    "    #append the last factor    \n",
    "    #it could be n itself if n is a prime number\n",
    "    #in that case there is only one element in the list\n",
    "    #or it could be the last indivisible factor of n which is also a prime number\n",
    "    factors.append(int(n))\n",
    "    \n",
    "    if len(factors)==1:\n",
    "        print('%d is a prime number'%(n))\n",
    "        factors=[]"
   ]
  },
  {
   "cell_type": "code",
   "execution_count": 11,
   "metadata": {},
   "outputs": [
    {
     "ename": "NameError",
     "evalue": "name 'f' is not defined",
     "output_type": "error",
     "traceback": [
      "\u001b[1;31m---------------------------------------------------------------------------\u001b[0m",
      "\u001b[1;31mNameError\u001b[0m                                 Traceback (most recent call last)",
      "\u001b[1;32m<ipython-input-11-6be519a13734>\u001b[0m in \u001b[0;36m<module>\u001b[1;34m\u001b[0m\n\u001b[0;32m      1\u001b[0m \u001b[1;31m#number of rails must be the combinations of the following factors\u001b[0m\u001b[1;33m\u001b[0m\u001b[1;33m\u001b[0m\u001b[0m\n\u001b[0;32m      2\u001b[0m \u001b[1;31m#then we can brute force\u001b[0m\u001b[1;33m\u001b[0m\u001b[1;33m\u001b[0m\u001b[0m\n\u001b[1;32m----> 3\u001b[1;33m \u001b[0mfactorization\u001b[0m\u001b[1;33m(\u001b[0m\u001b[0mlen\u001b[0m\u001b[1;33m(\u001b[0m\u001b[0multimate_ciphertext\u001b[0m\u001b[1;33m.\u001b[0m\u001b[0mreplace\u001b[0m\u001b[1;33m(\u001b[0m\u001b[1;34m' '\u001b[0m\u001b[1;33m,\u001b[0m\u001b[1;34m''\u001b[0m\u001b[1;33m)\u001b[0m\u001b[1;33m)\u001b[0m\u001b[1;33m)\u001b[0m\u001b[1;33m\u001b[0m\u001b[0m\n\u001b[0m\u001b[0;32m      4\u001b[0m \u001b[0mprint\u001b[0m\u001b[1;33m(\u001b[0m\u001b[0mfactors\u001b[0m\u001b[1;33m)\u001b[0m\u001b[1;33m\u001b[0m\u001b[0m\n",
      "\u001b[1;32m<ipython-input-10-3b3b7cd6b7a8>\u001b[0m in \u001b[0;36mfactorization\u001b[1;34m(n)\u001b[0m\n\u001b[0;32m     29\u001b[0m                 \u001b[1;31m#it will stop function from appending non-prime factors\u001b[0m\u001b[1;33m\u001b[0m\u001b[1;33m\u001b[0m\u001b[0m\n\u001b[0;32m     30\u001b[0m                 \u001b[1;31m#the next few lines will be ignored\u001b[0m\u001b[1;33m\u001b[0m\u001b[1;33m\u001b[0m\u001b[0m\n\u001b[1;32m---> 31\u001b[1;33m                 \u001b[1;32mreturn\u001b[0m \u001b[0mf\u001b[0m\u001b[1;33m(\u001b[0m\u001b[0mint\u001b[0m\u001b[1;33m(\u001b[0m\u001b[0mn\u001b[0m\u001b[1;33m/\u001b[0m\u001b[0mi\u001b[0m\u001b[1;33m)\u001b[0m\u001b[1;33m)\u001b[0m\u001b[1;33m\u001b[0m\u001b[0m\n\u001b[0m\u001b[0;32m     32\u001b[0m \u001b[1;33m\u001b[0m\u001b[0m\n\u001b[0;32m     33\u001b[0m     \u001b[1;31m#append the last factor\u001b[0m\u001b[1;33m\u001b[0m\u001b[1;33m\u001b[0m\u001b[0m\n",
      "\u001b[1;31mNameError\u001b[0m: name 'f' is not defined"
     ]
    }
   ],
   "source": [
    "#number of rails must be the combinations of the following factors\n",
    "#then we can brute force\n",
    "factorization(len(ultimate_ciphertext.replace(' ','')))\n",
    "print(factors)"
   ]
  },
  {
   "cell_type": "code",
   "execution_count": null,
   "metadata": {},
   "outputs": [],
   "source": [
    "#find all the combinations of the factors\n",
    "combinations=[]\n",
    "for i in range(1,len(factors)):\n",
    "    combinations+=list(itertools.combinations(factors,i))\n",
    "\n",
    "#multiplication of the factors\n",
    "possible_num_of_rails=[]\n",
    "for i in set(combinations):\n",
    "    product=1\n",
    "    for j in i:\n",
    "        product*=j\n",
    "    possible_num_of_rails.append(product)\n",
    "\n",
    "#brute force all possible values\n",
    "print(possible_num_of_rails)"
   ]
  },
  {
   "cell_type": "code",
   "execution_count": null,
   "metadata": {},
   "outputs": [],
   "source": []
  }
 ],
 "metadata": {
  "kernelspec": {
   "display_name": "Python 3",
   "language": "python",
   "name": "python3"
  },
  "language_info": {
   "codemirror_mode": {
    "name": "ipython",
    "version": 3
   },
   "file_extension": ".py",
   "mimetype": "text/x-python",
   "name": "python",
   "nbconvert_exporter": "python",
   "pygments_lexer": "ipython3",
   "version": "3.6.5"
  },
  "toc": {
   "base_numbering": 1,
   "nav_menu": {},
   "number_sections": false,
   "sideBar": true,
   "skip_h1_title": false,
   "title_cell": "Table of Contents",
   "title_sidebar": "Contents",
   "toc_cell": false,
   "toc_position": {
    "height": "calc(100% - 180px)",
    "left": "10px",
    "top": "150px",
    "width": "154px"
   },
   "toc_section_display": true,
   "toc_window_display": false
  }
 },
 "nbformat": 4,
 "nbformat_minor": 2
}
